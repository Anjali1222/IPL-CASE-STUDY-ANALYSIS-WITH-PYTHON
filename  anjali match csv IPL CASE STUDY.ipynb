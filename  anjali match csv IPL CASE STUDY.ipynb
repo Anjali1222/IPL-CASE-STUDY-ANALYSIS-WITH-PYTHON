{
 "cells": [
  {
   "cell_type": "code",
   "execution_count": 2,
   "id": "73cd035e",
   "metadata": {},
   "outputs": [],
   "source": [
    "import pandas as pd\n",
    "import numpy as np"
   ]
  },
  {
   "cell_type": "code",
   "execution_count": 3,
   "id": "c1605ac0",
   "metadata": {},
   "outputs": [
    {
     "data": {
      "text/html": [
       "<div>\n",
       "<style scoped>\n",
       "    .dataframe tbody tr th:only-of-type {\n",
       "        vertical-align: middle;\n",
       "    }\n",
       "\n",
       "    .dataframe tbody tr th {\n",
       "        vertical-align: top;\n",
       "    }\n",
       "\n",
       "    .dataframe thead th {\n",
       "        text-align: right;\n",
       "    }\n",
       "</style>\n",
       "<table border=\"1\" class=\"dataframe\">\n",
       "  <thead>\n",
       "    <tr style=\"text-align: right;\">\n",
       "      <th></th>\n",
       "      <th>match_id</th>\n",
       "      <th>inning</th>\n",
       "      <th>batting_team</th>\n",
       "      <th>bowling_team</th>\n",
       "      <th>over</th>\n",
       "      <th>ball</th>\n",
       "      <th>batsman</th>\n",
       "      <th>non_striker</th>\n",
       "      <th>bowler</th>\n",
       "      <th>is_super_over</th>\n",
       "      <th>...</th>\n",
       "      <th>bye_runs</th>\n",
       "      <th>legbye_runs</th>\n",
       "      <th>noball_runs</th>\n",
       "      <th>penalty_runs</th>\n",
       "      <th>batsman_runs</th>\n",
       "      <th>extra_runs</th>\n",
       "      <th>total_runs</th>\n",
       "      <th>player_dismissed</th>\n",
       "      <th>dismissal_kind</th>\n",
       "      <th>fielder</th>\n",
       "    </tr>\n",
       "  </thead>\n",
       "  <tbody>\n",
       "    <tr>\n",
       "      <th>0</th>\n",
       "      <td>1</td>\n",
       "      <td>1</td>\n",
       "      <td>Sunrisers Hyderabad</td>\n",
       "      <td>Royal Challengers Bangalore</td>\n",
       "      <td>1</td>\n",
       "      <td>1</td>\n",
       "      <td>DA Warner</td>\n",
       "      <td>S Dhawan</td>\n",
       "      <td>TS Mills</td>\n",
       "      <td>0</td>\n",
       "      <td>...</td>\n",
       "      <td>0</td>\n",
       "      <td>0</td>\n",
       "      <td>0</td>\n",
       "      <td>0</td>\n",
       "      <td>0</td>\n",
       "      <td>0</td>\n",
       "      <td>0</td>\n",
       "      <td>NaN</td>\n",
       "      <td>NaN</td>\n",
       "      <td>NaN</td>\n",
       "    </tr>\n",
       "    <tr>\n",
       "      <th>1</th>\n",
       "      <td>1</td>\n",
       "      <td>1</td>\n",
       "      <td>Sunrisers Hyderabad</td>\n",
       "      <td>Royal Challengers Bangalore</td>\n",
       "      <td>1</td>\n",
       "      <td>2</td>\n",
       "      <td>DA Warner</td>\n",
       "      <td>S Dhawan</td>\n",
       "      <td>TS Mills</td>\n",
       "      <td>0</td>\n",
       "      <td>...</td>\n",
       "      <td>0</td>\n",
       "      <td>0</td>\n",
       "      <td>0</td>\n",
       "      <td>0</td>\n",
       "      <td>0</td>\n",
       "      <td>0</td>\n",
       "      <td>0</td>\n",
       "      <td>NaN</td>\n",
       "      <td>NaN</td>\n",
       "      <td>NaN</td>\n",
       "    </tr>\n",
       "    <tr>\n",
       "      <th>2</th>\n",
       "      <td>1</td>\n",
       "      <td>1</td>\n",
       "      <td>Sunrisers Hyderabad</td>\n",
       "      <td>Royal Challengers Bangalore</td>\n",
       "      <td>1</td>\n",
       "      <td>3</td>\n",
       "      <td>DA Warner</td>\n",
       "      <td>S Dhawan</td>\n",
       "      <td>TS Mills</td>\n",
       "      <td>0</td>\n",
       "      <td>...</td>\n",
       "      <td>0</td>\n",
       "      <td>0</td>\n",
       "      <td>0</td>\n",
       "      <td>0</td>\n",
       "      <td>4</td>\n",
       "      <td>0</td>\n",
       "      <td>4</td>\n",
       "      <td>NaN</td>\n",
       "      <td>NaN</td>\n",
       "      <td>NaN</td>\n",
       "    </tr>\n",
       "    <tr>\n",
       "      <th>3</th>\n",
       "      <td>1</td>\n",
       "      <td>1</td>\n",
       "      <td>Sunrisers Hyderabad</td>\n",
       "      <td>Royal Challengers Bangalore</td>\n",
       "      <td>1</td>\n",
       "      <td>4</td>\n",
       "      <td>DA Warner</td>\n",
       "      <td>S Dhawan</td>\n",
       "      <td>TS Mills</td>\n",
       "      <td>0</td>\n",
       "      <td>...</td>\n",
       "      <td>0</td>\n",
       "      <td>0</td>\n",
       "      <td>0</td>\n",
       "      <td>0</td>\n",
       "      <td>0</td>\n",
       "      <td>0</td>\n",
       "      <td>0</td>\n",
       "      <td>NaN</td>\n",
       "      <td>NaN</td>\n",
       "      <td>NaN</td>\n",
       "    </tr>\n",
       "    <tr>\n",
       "      <th>4</th>\n",
       "      <td>1</td>\n",
       "      <td>1</td>\n",
       "      <td>Sunrisers Hyderabad</td>\n",
       "      <td>Royal Challengers Bangalore</td>\n",
       "      <td>1</td>\n",
       "      <td>5</td>\n",
       "      <td>DA Warner</td>\n",
       "      <td>S Dhawan</td>\n",
       "      <td>TS Mills</td>\n",
       "      <td>0</td>\n",
       "      <td>...</td>\n",
       "      <td>0</td>\n",
       "      <td>0</td>\n",
       "      <td>0</td>\n",
       "      <td>0</td>\n",
       "      <td>0</td>\n",
       "      <td>2</td>\n",
       "      <td>2</td>\n",
       "      <td>NaN</td>\n",
       "      <td>NaN</td>\n",
       "      <td>NaN</td>\n",
       "    </tr>\n",
       "  </tbody>\n",
       "</table>\n",
       "<p>5 rows × 21 columns</p>\n",
       "</div>"
      ],
      "text/plain": [
       "   match_id  inning         batting_team                 bowling_team  over  \\\n",
       "0         1       1  Sunrisers Hyderabad  Royal Challengers Bangalore     1   \n",
       "1         1       1  Sunrisers Hyderabad  Royal Challengers Bangalore     1   \n",
       "2         1       1  Sunrisers Hyderabad  Royal Challengers Bangalore     1   \n",
       "3         1       1  Sunrisers Hyderabad  Royal Challengers Bangalore     1   \n",
       "4         1       1  Sunrisers Hyderabad  Royal Challengers Bangalore     1   \n",
       "\n",
       "   ball    batsman non_striker    bowler  is_super_over  ...  bye_runs  \\\n",
       "0     1  DA Warner    S Dhawan  TS Mills              0  ...         0   \n",
       "1     2  DA Warner    S Dhawan  TS Mills              0  ...         0   \n",
       "2     3  DA Warner    S Dhawan  TS Mills              0  ...         0   \n",
       "3     4  DA Warner    S Dhawan  TS Mills              0  ...         0   \n",
       "4     5  DA Warner    S Dhawan  TS Mills              0  ...         0   \n",
       "\n",
       "   legbye_runs  noball_runs  penalty_runs  batsman_runs  extra_runs  \\\n",
       "0            0            0             0             0           0   \n",
       "1            0            0             0             0           0   \n",
       "2            0            0             0             4           0   \n",
       "3            0            0             0             0           0   \n",
       "4            0            0             0             0           2   \n",
       "\n",
       "   total_runs  player_dismissed dismissal_kind fielder  \n",
       "0           0               NaN            NaN     NaN  \n",
       "1           0               NaN            NaN     NaN  \n",
       "2           4               NaN            NaN     NaN  \n",
       "3           0               NaN            NaN     NaN  \n",
       "4           2               NaN            NaN     NaN  \n",
       "\n",
       "[5 rows x 21 columns]"
      ]
     },
     "execution_count": 3,
     "metadata": {},
     "output_type": "execute_result"
    }
   ],
   "source": [
    "df = pd.read_csv(\"Match.csv\")\n",
    "df.head()"
   ]
  },
  {
   "cell_type": "code",
   "execution_count": 4,
   "id": "14e9300a",
   "metadata": {},
   "outputs": [
    {
     "data": {
      "text/plain": [
       "(69761, 21)"
      ]
     },
     "execution_count": 4,
     "metadata": {},
     "output_type": "execute_result"
    }
   ],
   "source": [
    "df.shape"
   ]
  },
  {
   "cell_type": "code",
   "execution_count": 5,
   "id": "fc0621c6",
   "metadata": {},
   "outputs": [
    {
     "name": "stdout",
     "output_type": "stream",
     "text": [
      "<class 'pandas.core.frame.DataFrame'>\n",
      "RangeIndex: 69761 entries, 0 to 69760\n",
      "Data columns (total 21 columns):\n",
      " #   Column            Non-Null Count  Dtype \n",
      "---  ------            --------------  ----- \n",
      " 0   match_id          69761 non-null  int64 \n",
      " 1   inning            69761 non-null  int64 \n",
      " 2   batting_team      69761 non-null  object\n",
      " 3   bowling_team      69761 non-null  object\n",
      " 4   over              69761 non-null  int64 \n",
      " 5   ball              69761 non-null  int64 \n",
      " 6   batsman           69761 non-null  object\n",
      " 7   non_striker       69761 non-null  object\n",
      " 8   bowler            69761 non-null  object\n",
      " 9   is_super_over     69761 non-null  int64 \n",
      " 10  wide_runs         69761 non-null  int64 \n",
      " 11  bye_runs          69761 non-null  int64 \n",
      " 12  legbye_runs       69761 non-null  int64 \n",
      " 13  noball_runs       69761 non-null  int64 \n",
      " 14  penalty_runs      69761 non-null  int64 \n",
      " 15  batsman_runs      69761 non-null  int64 \n",
      " 16  extra_runs        69761 non-null  int64 \n",
      " 17  total_runs        69761 non-null  int64 \n",
      " 18  player_dismissed  3516 non-null   object\n",
      " 19  dismissal_kind    3516 non-null   object\n",
      " 20  fielder           2529 non-null   object\n",
      "dtypes: int64(13), object(8)\n",
      "memory usage: 11.2+ MB\n"
     ]
    }
   ],
   "source": [
    "df.info()"
   ]
  },
  {
   "cell_type": "code",
   "execution_count": 6,
   "id": "4ed78803",
   "metadata": {},
   "outputs": [
    {
     "data": {
      "text/plain": [
       "player_dismissed\n",
       "RG Sharma           59\n",
       "SK Raina            59\n",
       "AC Gilchrist        57\n",
       "G Gambhir           56\n",
       "Yuvraj Singh        55\n",
       "                    ..\n",
       "A Choudhary          1\n",
       "BAW Mendis           1\n",
       "H Das                1\n",
       "GR Napier            1\n",
       "Jaskaran Singh       1\n",
       "Length: 354, dtype: int64"
      ]
     },
     "execution_count": 6,
     "metadata": {},
     "output_type": "execute_result"
    }
   ],
   "source": [
    "df[[\"player_dismissed\"]].value_counts()"
   ]
  },
  {
   "cell_type": "code",
   "execution_count": 7,
   "id": "80009044",
   "metadata": {},
   "outputs": [
    {
     "data": {
      "text/plain": [
       "fielder        \n",
       "RV Uthappa         61\n",
       "KD Karthik         57\n",
       "MS Dhoni           55\n",
       "AC Gilchrist       54\n",
       "KC Sangakkara      46\n",
       "                   ..\n",
       "RA Jadeja (sub)     1\n",
       "Misbah-ul-Haq       1\n",
       "AD Mascarenhas      1\n",
       "M Kaif (sub)        1\n",
       "KS Williamson       1\n",
       "Length: 352, dtype: int64"
      ]
     },
     "execution_count": 7,
     "metadata": {},
     "output_type": "execute_result"
    }
   ],
   "source": [
    "df[[\"fielder\"]].value_counts()"
   ]
  },
  {
   "cell_type": "code",
   "execution_count": 8,
   "id": "06ad1ea0",
   "metadata": {},
   "outputs": [
    {
     "data": {
      "text/plain": [
       "dismissal_kind   \n",
       "caught               2029\n",
       "bowled                650\n",
       "run out               379\n",
       "lbw                   223\n",
       "stumped               121\n",
       "caught and bowled     106\n",
       "hit wicket              4\n",
       "retired hurt            4\n",
       "dtype: int64"
      ]
     },
     "execution_count": 8,
     "metadata": {},
     "output_type": "execute_result"
    }
   ],
   "source": [
    "df[[\"dismissal_kind\"]].value_counts()"
   ]
  },
  {
   "cell_type": "code",
   "execution_count": 10,
   "id": "396e3295",
   "metadata": {},
   "outputs": [
    {
     "data": {
      "text/plain": [
       "batting_team\n",
       "Mumbai Indians                 11202\n",
       "Kings XI Punjab                10763\n",
       "Delhi Daredevils               10654\n",
       "Royal Challengers Bangalore    10221\n",
       "Kolkata Knight Riders           9924\n",
       "Chennai Super Kings             9253\n",
       "Deccan Chargers                 8931\n",
       "Rajasthan Royals                8039\n",
       "Rising Pune Supergiant          2470\n",
       "Gujarat Lions                   2412\n",
       "Sunrisers Hyderabad             2349\n",
       "Kochi Tuskers Kerala            1760\n",
       "Pune Warriors                   1657\n",
       "Name: total_runs, dtype: int64"
      ]
     },
     "execution_count": 10,
     "metadata": {},
     "output_type": "execute_result"
    }
   ],
   "source": [
    "#Find Team wise runs scored.\n",
    "team_wise=df.groupby('batting_team')['total_runs'].sum().sort_values(ascending=False)\n",
    "team_wise"
   ]
  },
  {
   "cell_type": "code",
   "execution_count": 11,
   "id": "72e36f8b",
   "metadata": {},
   "outputs": [
    {
     "data": {
      "text/plain": [
       "1428"
      ]
     },
     "execution_count": 11,
     "metadata": {},
     "output_type": "execute_result"
    }
   ],
   "source": [
    "# Find Total Runs of Virat Kohli.\n",
    "player_run=df.groupby('batsman')['batsman_runs'].sum().sort_values(ascending=False)\n",
    "player_run['V Kohli']\n",
    "\n"
   ]
  },
  {
   "cell_type": "code",
   "execution_count": 12,
   "id": "15c495dd",
   "metadata": {},
   "outputs": [
    {
     "name": "stdout",
     "output_type": "stream",
     "text": [
      "enter your fav player name :-DA Warner\n",
      "Total run of :: 1391\n"
     ]
    }
   ],
   "source": [
    "# Find Total Runs of Your Fav Player.\n",
    "name=input(\"enter your fav player name :-\")\n",
    "print(\"Total run of ::\", player_run[name])\n",
    "\n",
    "\n"
   ]
  },
  {
   "cell_type": "code",
   "execution_count": 13,
   "id": "ffad1e6f",
   "metadata": {},
   "outputs": [
    {
     "data": {
      "text/plain": [
       "bowler\n",
       "A Choudhary      7\n",
       "A Flintoff       1\n",
       "A Kumble        62\n",
       "A Mishra        60\n",
       "A Mithun        19\n",
       "                ..\n",
       "YA Abdulla      17\n",
       "YK Pathan       50\n",
       "YS Chahal       30\n",
       "Yuvraj Singh    11\n",
       "Z Khan          89\n",
       "Name: extra_runs, Length: 285, dtype: int64"
      ]
     },
     "execution_count": 13,
     "metadata": {},
     "output_type": "execute_result"
    }
   ],
   "source": [
    "# Extra Runs Given By All Bowlers in a League.\n",
    "Extra_runs=df.groupby('bowler')['extra_runs'].sum()\n",
    "Extra_runs"
   ]
  },
  {
   "cell_type": "code",
   "execution_count": 14,
   "id": "0f75d976",
   "metadata": {},
   "outputs": [
    {
     "data": {
      "text/plain": [
       "13"
      ]
     },
     "execution_count": 14,
     "metadata": {},
     "output_type": "execute_result"
    }
   ],
   "source": [
    "# Extra Runs Given By TS Mills.\n",
    "bowler=df.groupby('bowler')['extra_runs'].sum().sort_values(ascending=False)\n",
    "bowler['TS Mills']"
   ]
  },
  {
   "cell_type": "code",
   "execution_count": 15,
   "id": "0561c25e",
   "metadata": {},
   "outputs": [
    {
     "data": {
      "text/html": [
       "<div>\n",
       "<style scoped>\n",
       "    .dataframe tbody tr th:only-of-type {\n",
       "        vertical-align: middle;\n",
       "    }\n",
       "\n",
       "    .dataframe tbody tr th {\n",
       "        vertical-align: top;\n",
       "    }\n",
       "\n",
       "    .dataframe thead th {\n",
       "        text-align: right;\n",
       "    }\n",
       "</style>\n",
       "<table border=\"1\" class=\"dataframe\">\n",
       "  <thead>\n",
       "    <tr style=\"text-align: right;\">\n",
       "      <th></th>\n",
       "      <th>batsman</th>\n",
       "      <th>dismissal_kind</th>\n",
       "    </tr>\n",
       "  </thead>\n",
       "  <tbody>\n",
       "    <tr>\n",
       "      <th>11</th>\n",
       "      <td>DA Warner</td>\n",
       "      <td>caught</td>\n",
       "    </tr>\n",
       "    <tr>\n",
       "      <th>2728</th>\n",
       "      <td>MJ McClenaghan</td>\n",
       "      <td>caught</td>\n",
       "    </tr>\n",
       "    <tr>\n",
       "      <th>3922</th>\n",
       "      <td>DT Christian</td>\n",
       "      <td>caught</td>\n",
       "    </tr>\n",
       "    <tr>\n",
       "      <th>4691</th>\n",
       "      <td>DR Smith</td>\n",
       "      <td>caught</td>\n",
       "    </tr>\n",
       "    <tr>\n",
       "      <th>6355</th>\n",
       "      <td>CR Woakes</td>\n",
       "      <td>caught</td>\n",
       "    </tr>\n",
       "    <tr>\n",
       "      <th>9751</th>\n",
       "      <td>SE Marsh</td>\n",
       "      <td>caught</td>\n",
       "    </tr>\n",
       "    <tr>\n",
       "      <th>69340</th>\n",
       "      <td>IK Pathan</td>\n",
       "      <td>caught</td>\n",
       "    </tr>\n",
       "  </tbody>\n",
       "</table>\n",
       "</div>"
      ],
      "text/plain": [
       "              batsman dismissal_kind\n",
       "11          DA Warner         caught\n",
       "2728   MJ McClenaghan         caught\n",
       "3922     DT Christian         caught\n",
       "4691         DR Smith         caught\n",
       "6355        CR Woakes         caught\n",
       "9751         SE Marsh         caught\n",
       "69340       IK Pathan         caught"
      ]
     },
     "execution_count": 15,
     "metadata": {},
     "output_type": "execute_result"
    }
   ],
   "source": [
    "# Catches Taken By Mandeep Singh.\n",
    "mask=df[df['dismissal_kind']=='caught']\n",
    "mask[mask['fielder']=='Mandeep Singh'][['batsman','dismissal_kind']]"
   ]
  },
  {
   "cell_type": "code",
   "execution_count": 17,
   "id": "3a0e8b84",
   "metadata": {},
   "outputs": [
    {
     "data": {
      "text/html": [
       "<div>\n",
       "<style scoped>\n",
       "    .dataframe tbody tr th:only-of-type {\n",
       "        vertical-align: middle;\n",
       "    }\n",
       "\n",
       "    .dataframe tbody tr th {\n",
       "        vertical-align: top;\n",
       "    }\n",
       "\n",
       "    .dataframe thead th {\n",
       "        text-align: right;\n",
       "    }\n",
       "</style>\n",
       "<table border=\"1\" class=\"dataframe\">\n",
       "  <thead>\n",
       "    <tr style=\"text-align: right;\">\n",
       "      <th></th>\n",
       "      <th>batsman</th>\n",
       "      <th>bowler</th>\n",
       "    </tr>\n",
       "  </thead>\n",
       "  <tbody>\n",
       "    <tr>\n",
       "      <th>9029</th>\n",
       "      <td>DA Warner</td>\n",
       "      <td>Mohammed Shami</td>\n",
       "    </tr>\n",
       "  </tbody>\n",
       "</table>\n",
       "</div>"
      ],
      "text/plain": [
       "        batsman          bowler\n",
       "9029  DA Warner  Mohammed Shami"
      ]
     },
     "execution_count": 17,
     "metadata": {},
     "output_type": "execute_result"
    }
   ],
   "source": [
    "# How Many Times DA Warner is dismissed by Mohammed Shami.\n",
    "msk1=df['player_dismissed']=='DA Warner'\n",
    "mask2=df['bowler']=='Mohammed Shami'\n",
    "len(df[msk1 & mask2][['batsman','bowler']])\n",
    "df[msk1 & mask2][['batsman','bowler']] "
   ]
  },
  {
   "cell_type": "code",
   "execution_count": 18,
   "id": "00585f14",
   "metadata": {},
   "outputs": [
    {
     "data": {
      "text/plain": [
       "14"
      ]
     },
     "execution_count": 18,
     "metadata": {},
     "output_type": "execute_result"
    }
   ],
   "source": [
    "# Total Number of Wickets Taken by YS Chahal.\n",
    "bowl=df[df['bowler']=='YS Chahal']\n",
    "bowl['player_dismissed'].count()\n",
    "\n",
    "\n"
   ]
  },
  {
   "cell_type": "code",
   "execution_count": 19,
   "id": "e4f98af9",
   "metadata": {},
   "outputs": [
    {
     "data": {
      "text/html": [
       "<div>\n",
       "<style scoped>\n",
       "    .dataframe tbody tr th:only-of-type {\n",
       "        vertical-align: middle;\n",
       "    }\n",
       "\n",
       "    .dataframe tbody tr th {\n",
       "        vertical-align: top;\n",
       "    }\n",
       "\n",
       "    .dataframe thead th {\n",
       "        text-align: right;\n",
       "    }\n",
       "</style>\n",
       "<table border=\"1\" class=\"dataframe\">\n",
       "  <thead>\n",
       "    <tr style=\"text-align: right;\">\n",
       "      <th></th>\n",
       "      <th>batsman</th>\n",
       "      <th>dismissal_kind</th>\n",
       "      <th>fielder</th>\n",
       "    </tr>\n",
       "  </thead>\n",
       "  <tbody>\n",
       "    <tr>\n",
       "      <th>3024</th>\n",
       "      <td>BB McCullum</td>\n",
       "      <td>stumped</td>\n",
       "      <td>MS Dhoni</td>\n",
       "    </tr>\n",
       "    <tr>\n",
       "      <th>4006</th>\n",
       "      <td>AB de Villiers</td>\n",
       "      <td>stumped</td>\n",
       "      <td>MS Dhoni</td>\n",
       "    </tr>\n",
       "    <tr>\n",
       "      <th>11944</th>\n",
       "      <td>CJ Anderson</td>\n",
       "      <td>stumped</td>\n",
       "      <td>MS Dhoni</td>\n",
       "    </tr>\n",
       "    <tr>\n",
       "      <th>28296</th>\n",
       "      <td>RV Uthappa</td>\n",
       "      <td>stumped</td>\n",
       "      <td>MS Dhoni</td>\n",
       "    </tr>\n",
       "    <tr>\n",
       "      <th>32944</th>\n",
       "      <td>DA Warner</td>\n",
       "      <td>stumped</td>\n",
       "      <td>MS Dhoni</td>\n",
       "    </tr>\n",
       "    <tr>\n",
       "      <th>35415</th>\n",
       "      <td>GC Smith</td>\n",
       "      <td>stumped</td>\n",
       "      <td>MS Dhoni</td>\n",
       "    </tr>\n",
       "    <tr>\n",
       "      <th>35445</th>\n",
       "      <td>AS Raut</td>\n",
       "      <td>stumped</td>\n",
       "      <td>MS Dhoni</td>\n",
       "    </tr>\n",
       "    <tr>\n",
       "      <th>49905</th>\n",
       "      <td>AT Rayudu</td>\n",
       "      <td>stumped</td>\n",
       "      <td>MS Dhoni</td>\n",
       "    </tr>\n",
       "    <tr>\n",
       "      <th>51089</th>\n",
       "      <td>MD Mishra</td>\n",
       "      <td>stumped</td>\n",
       "      <td>MS Dhoni</td>\n",
       "    </tr>\n",
       "    <tr>\n",
       "      <th>52411</th>\n",
       "      <td>CH Gayle</td>\n",
       "      <td>stumped</td>\n",
       "      <td>MS Dhoni</td>\n",
       "    </tr>\n",
       "    <tr>\n",
       "      <th>52422</th>\n",
       "      <td>DJ Hussey</td>\n",
       "      <td>stumped</td>\n",
       "      <td>MS Dhoni</td>\n",
       "    </tr>\n",
       "    <tr>\n",
       "      <th>52495</th>\n",
       "      <td>WP Saha</td>\n",
       "      <td>stumped</td>\n",
       "      <td>MS Dhoni</td>\n",
       "    </tr>\n",
       "    <tr>\n",
       "      <th>54962</th>\n",
       "      <td>MD Mishra</td>\n",
       "      <td>stumped</td>\n",
       "      <td>MS Dhoni</td>\n",
       "    </tr>\n",
       "    <tr>\n",
       "      <th>55630</th>\n",
       "      <td>MS Bisla</td>\n",
       "      <td>stumped</td>\n",
       "      <td>MS Dhoni</td>\n",
       "    </tr>\n",
       "    <tr>\n",
       "      <th>55677</th>\n",
       "      <td>EJG Morgan</td>\n",
       "      <td>stumped</td>\n",
       "      <td>MS Dhoni</td>\n",
       "    </tr>\n",
       "    <tr>\n",
       "      <th>55692</th>\n",
       "      <td>MK Tiwary</td>\n",
       "      <td>stumped</td>\n",
       "      <td>MS Dhoni</td>\n",
       "    </tr>\n",
       "    <tr>\n",
       "      <th>60699</th>\n",
       "      <td>AT Rayudu</td>\n",
       "      <td>stumped</td>\n",
       "      <td>MS Dhoni</td>\n",
       "    </tr>\n",
       "  </tbody>\n",
       "</table>\n",
       "</div>"
      ],
      "text/plain": [
       "              batsman dismissal_kind   fielder\n",
       "3024      BB McCullum        stumped  MS Dhoni\n",
       "4006   AB de Villiers        stumped  MS Dhoni\n",
       "11944     CJ Anderson        stumped  MS Dhoni\n",
       "28296      RV Uthappa        stumped  MS Dhoni\n",
       "32944       DA Warner        stumped  MS Dhoni\n",
       "35415        GC Smith        stumped  MS Dhoni\n",
       "35445         AS Raut        stumped  MS Dhoni\n",
       "49905       AT Rayudu        stumped  MS Dhoni\n",
       "51089       MD Mishra        stumped  MS Dhoni\n",
       "52411        CH Gayle        stumped  MS Dhoni\n",
       "52422       DJ Hussey        stumped  MS Dhoni\n",
       "52495         WP Saha        stumped  MS Dhoni\n",
       "54962       MD Mishra        stumped  MS Dhoni\n",
       "55630        MS Bisla        stumped  MS Dhoni\n",
       "55677      EJG Morgan        stumped  MS Dhoni\n",
       "55692       MK Tiwary        stumped  MS Dhoni\n",
       "60699       AT Rayudu        stumped  MS Dhoni"
      ]
     },
     "execution_count": 19,
     "metadata": {},
     "output_type": "execute_result"
    }
   ],
   "source": [
    "# Find Number of Stump Out done by MS Dhoni.\n",
    "m1=df['dismissal_kind']=='stumped'\n",
    "m2=df['fielder']=='MS Dhoni'\n",
    "df[m1 & m2][['batsman','dismissal_kind','fielder']]\n",
    "\n",
    "\n"
   ]
  },
  {
   "cell_type": "code",
   "execution_count": 20,
   "id": "59f79965",
   "metadata": {},
   "outputs": [
    {
     "data": {
      "text/plain": [
       "17"
      ]
     },
     "execution_count": 20,
     "metadata": {},
     "output_type": "execute_result"
    }
   ],
   "source": [
    "len(df[m1 & m2 ]) # total 17 time stump out done my ms dhoni"
   ]
  },
  {
   "cell_type": "code",
   "execution_count": 12,
   "id": "7bf04bca",
   "metadata": {},
   "outputs": [],
   "source": [
    "# How Many Times S Dhawan Got Out by lbw.\n",
    "\n",
    "\n",
    "\n"
   ]
  },
  {
   "cell_type": "code",
   "execution_count": 21,
   "id": "19c62f64",
   "metadata": {},
   "outputs": [
    {
     "data": {
      "text/plain": [
       "62"
      ]
     },
     "execution_count": 21,
     "metadata": {},
     "output_type": "execute_result"
    }
   ],
   "source": [
    "# Total number sixes hit by MS Dhoni.\n",
    "\n",
    "b1=df['batsman_runs']==6\n",
    "b2=df['batsman']=='MS Dhoni'\n",
    "len(df[b1 & b2][['batsman','batsman_runs']])\n",
    "\n"
   ]
  },
  {
   "cell_type": "code",
   "execution_count": 22,
   "id": "93070408",
   "metadata": {},
   "outputs": [
    {
     "data": {
      "text/plain": [
       "batting_team\n",
       "Mumbai Indians                 8662\n",
       "Kings XI Punjab                8208\n",
       "Delhi Daredevils               8197\n",
       "Royal Challengers Bangalore    8188\n",
       "Kolkata Knight Riders          7887\n",
       "Deccan Chargers                7078\n",
       "Chennai Super Kings            6987\n",
       "Rajasthan Royals               6443\n",
       "Rising Pune Supergiant         1900\n",
       "Sunrisers Hyderabad            1679\n",
       "Gujarat Lions                  1675\n",
       "Kochi Tuskers Kerala           1455\n",
       "Pune Warriors                  1402\n",
       "Name: ball, dtype: int64"
      ]
     },
     "execution_count": 22,
     "metadata": {},
     "output_type": "execute_result"
    }
   ],
   "source": [
    "# Total numbers of balls faced by MI Players.\n",
    "df.groupby('batting_team')['ball'].count().sort_values(ascending=False)\n",
    "\n",
    "\n",
    "\n"
   ]
  },
  {
   "cell_type": "code",
   "execution_count": 15,
   "id": "93f7a9ce",
   "metadata": {},
   "outputs": [],
   "source": [
    "# Total numbers of balls faced by KKR Players.\n",
    "\n",
    "\n",
    "\n"
   ]
  },
  {
   "cell_type": "code",
   "execution_count": 23,
   "id": "660589c5",
   "metadata": {},
   "outputs": [
    {
     "data": {
      "text/plain": [
       "1578"
      ]
     },
     "execution_count": 23,
     "metadata": {},
     "output_type": "execute_result"
    }
   ],
   "source": [
    "# Find the total number of runs scored by Sachin Tendulkar.\n",
    "df[df['batsman']=='SR Tendulkar']['batsman_runs'].sum()\n",
    "\n"
   ]
  },
  {
   "cell_type": "code",
   "execution_count": 24,
   "id": "6ad2fdf3",
   "metadata": {},
   "outputs": [
    {
     "data": {
      "text/plain": [
       "1388"
      ]
     },
     "execution_count": 24,
     "metadata": {},
     "output_type": "execute_result"
    }
   ],
   "source": [
    "# Find the total number of balls faced by Schin Tendulkar.\n",
    "df[df['batsman']=='SR Tendulkar']['ball'].count()\n",
    "\n"
   ]
  },
  {
   "cell_type": "code",
   "execution_count": 25,
   "id": "6f253827",
   "metadata": {},
   "outputs": [
    {
     "data": {
      "text/plain": [
       "caught               23\n",
       "bowled                7\n",
       "lbw                   5\n",
       "run out               2\n",
       "caught and bowled     1\n",
       "stumped               1\n",
       "Name: dismissal_kind, dtype: int64"
      ]
     },
     "execution_count": 25,
     "metadata": {},
     "output_type": "execute_result"
    }
   ],
   "source": [
    "# Find Sachin Tendulkar's dismissal types in IPL.\n",
    "df[df['player_dismissed']=='SR Tendulkar']['dismissal_kind'].value_counts()\n",
    "\n",
    "\n"
   ]
  },
  {
   "cell_type": "code",
   "execution_count": 26,
   "id": "0b9a9eb2",
   "metadata": {},
   "outputs": [
    {
     "data": {
      "text/plain": [
       "R Sharma           2\n",
       "PP Chawla          2\n",
       "RP Singh           2\n",
       "PJ Sangwan         2\n",
       "IK Pathan          2\n",
       "R Vinay Kumar      2\n",
       "A Mishra           2\n",
       "T Thushara         1\n",
       "L Balaji           1\n",
       "D du Preez         1\n",
       "DE Bollinger       1\n",
       "Anand Rajan        1\n",
       "AB Agarkar         1\n",
       "P Kumar            1\n",
       "SB Jakati          1\n",
       "Shoaib Akhtar      1\n",
       "SK Warne           1\n",
       "SK Raina           1\n",
       "R Bhatia           1\n",
       "VY Mahesh          1\n",
       "Shahid Afridi      1\n",
       "LR Shukla          1\n",
       "AD Mascarenhas     1\n",
       "RJ Harris          1\n",
       "PP Ojha            1\n",
       "Joginder Sharma    1\n",
       "JH Kallis          1\n",
       "Yuvraj Singh       1\n",
       "DW Steyn           1\n",
       "VS Malik           1\n",
       "AL Menaria         1\n",
       "SK Trivedi         1\n",
       "Name: bowler, dtype: int64"
      ]
     },
     "execution_count": 26,
     "metadata": {},
     "output_type": "execute_result"
    }
   ],
   "source": [
    "# Find the bowlers who dismissed SR Tendulkar.\n",
    "df[df['player_dismissed']=='SR Tendulkar']['bowler'].value_counts()\n",
    "\n",
    "\n"
   ]
  },
  {
   "cell_type": "code",
   "execution_count": 27,
   "id": "5a7f07d7",
   "metadata": {},
   "outputs": [
    {
     "data": {
      "text/plain": [
       "(59,)"
      ]
     },
     "execution_count": 27,
     "metadata": {},
     "output_type": "execute_result"
    }
   ],
   "source": [
    "# How many times was Suresh Raina dismissed.\n",
    "\n",
    "df[df['player_dismissed']=='SK Raina']['dismissal_kind'].shape\n",
    "\n"
   ]
  },
  {
   "cell_type": "code",
   "execution_count": 28,
   "id": "1e8a621f",
   "metadata": {},
   "outputs": [
    {
     "data": {
      "text/plain": [
       "59"
      ]
     },
     "execution_count": 28,
     "metadata": {},
     "output_type": "execute_result"
    }
   ],
   "source": [
    "len(df[df['player_dismissed']=='SK Raina']['dismissal_kind'])"
   ]
  },
  {
   "cell_type": "code",
   "execution_count": 33,
   "id": "a178f28b",
   "metadata": {},
   "outputs": [],
   "source": [
    "# Display player details who hit the maximum no of sixes in the current IPL tournament.\n",
    "\n",
    "\n",
    "\n"
   ]
  },
  {
   "cell_type": "code",
   "execution_count": 34,
   "id": "14382854",
   "metadata": {},
   "outputs": [],
   "source": [
    "# What is the Overall No Balls Runs for each team in the dataset?\n",
    "\n",
    "\n",
    "\n"
   ]
  },
  {
   "cell_type": "code",
   "execution_count": 29,
   "id": "daa068b7",
   "metadata": {},
   "outputs": [
    {
     "data": {
      "text/plain": [
       "batsman\n",
       "SK Raina    2159\n",
       "Name: batsman_runs, dtype: int64"
      ]
     },
     "execution_count": 29,
     "metadata": {},
     "output_type": "execute_result"
    }
   ],
   "source": [
    "# Which player scored the most runs in the dataset?\n",
    "\n",
    "top_bats=df.groupby(\"batsman\")['batsman_runs'].sum().sort_values(ascending=False)\n",
    "top_bats.head(1)\n",
    "\n",
    "\n"
   ]
  },
  {
   "cell_type": "code",
   "execution_count": 36,
   "id": "71ee2832",
   "metadata": {},
   "outputs": [],
   "source": [
    "# Create Your Own Question Atleast 20 To 30 Questions.\n",
    "\n",
    "\n",
    "\n"
   ]
  },
  {
   "cell_type": "markdown",
   "id": "4c68c3c9",
   "metadata": {},
   "source": [
    "*ALL THE BEST*"
   ]
  },
  {
   "cell_type": "markdown",
   "id": "2c48b986",
   "metadata": {},
   "source": [
    "# What is the Overall No Balls Runs for each team in the dataset?"
   ]
  },
  {
   "cell_type": "code",
   "execution_count": 30,
   "id": "ce07dcb6",
   "metadata": {},
   "outputs": [],
   "source": [
    "No_ball_runs=df.groupby('batting_team')['noball_runs'].sum().sort_values(ascending=False)"
   ]
  },
  {
   "cell_type": "code",
   "execution_count": 31,
   "id": "0303bd08",
   "metadata": {},
   "outputs": [
    {
     "data": {
      "text/plain": [
       "batting_team\n",
       "Deccan Chargers                45\n",
       "Rajasthan Royals               45\n",
       "Delhi Daredevils               42\n",
       "Mumbai Indians                 42\n",
       "Kolkata Knight Riders          39\n",
       "Kings XI Punjab                36\n",
       "Royal Challengers Bangalore    34\n",
       "Chennai Super Kings            32\n",
       "Kochi Tuskers Kerala           11\n",
       "Gujarat Lions                  10\n",
       "Pune Warriors                   9\n",
       "Sunrisers Hyderabad             6\n",
       "Rising Pune Supergiant          1\n",
       "Name: noball_runs, dtype: int64"
      ]
     },
     "execution_count": 31,
     "metadata": {},
     "output_type": "execute_result"
    }
   ],
   "source": [
    "No_ball_runs"
   ]
  },
  {
   "cell_type": "markdown",
   "id": "38c2f6ab",
   "metadata": {},
   "source": [
    "# top ten batsman in term of scored"
   ]
  },
  {
   "cell_type": "code",
   "execution_count": 32,
   "id": "1e75ae0f",
   "metadata": {},
   "outputs": [
    {
     "data": {
      "text/plain": [
       "batsman\n",
       "SK Raina        2159\n",
       "G Gambhir       1907\n",
       "RG Sharma       1794\n",
       "MS Dhoni        1585\n",
       "SR Tendulkar    1578\n",
       "RV Uthappa      1509\n",
       "JH Kallis       1490\n",
       "Yuvraj Singh    1469\n",
       "AC Gilchrist    1446\n",
       "SE Marsh        1439\n",
       "Name: batsman_runs, dtype: int64"
      ]
     },
     "execution_count": 32,
     "metadata": {},
     "output_type": "execute_result"
    }
   ],
   "source": [
    "top_bats=df.groupby(\"batsman\")['batsman_runs'].sum().sort_values(ascending=False).head(10)\n",
    "top_bats"
   ]
  },
  {
   "cell_type": "markdown",
   "id": "93e79c93",
   "metadata": {},
   "source": [
    "# find the top 10 batsman with max no of six"
   ]
  },
  {
   "cell_type": "code",
   "execution_count": 33,
   "id": "6b74d47e",
   "metadata": {},
   "outputs": [
    {
     "data": {
      "text/plain": [
       "batsman\n",
       "SK Raina        83\n",
       "YK Pathan       80\n",
       "Yuvraj Singh    75\n",
       "CH Gayle        72\n",
       "RG Sharma       72\n",
       "AC Gilchrist    71\n",
       "RV Uthappa      70\n",
       "BB McCullum     63\n",
       "MS Dhoni        62\n",
       "V Sehwag        60\n",
       "Name: batsman_runs, dtype: int64"
      ]
     },
     "execution_count": 33,
     "metadata": {},
     "output_type": "execute_result"
    }
   ],
   "source": [
    "six=df[df['batsman_runs']==6]\n",
    "six.groupby('batsman')['batsman_runs'].count().sort_values(ascending=False).head(10)"
   ]
  },
  {
   "cell_type": "markdown",
   "id": "da6875ec",
   "metadata": {},
   "source": [
    "# find the batsman with most number of 4 and 6 in last 5 overs"
   ]
  },
  {
   "cell_type": "code",
   "execution_count": 35,
   "id": "8480bc81",
   "metadata": {},
   "outputs": [],
   "source": [
    "temp_df=df[df['over']>15]"
   ]
  },
  {
   "cell_type": "code",
   "execution_count": 36,
   "id": "4e457c69",
   "metadata": {},
   "outputs": [],
   "source": [
    "temp_df=temp_df[(temp_df['batsman_runs']==4) | (temp_df['batsman_runs']==6)]"
   ]
  },
  {
   "cell_type": "code",
   "execution_count": 37,
   "id": "9f61135b",
   "metadata": {},
   "outputs": [
    {
     "data": {
      "text/plain": [
       "batsman\n",
       "MS Dhoni        100\n",
       "RG Sharma        91\n",
       "Yuvraj Singh     70\n",
       "KA Pollard       64\n",
       "KD Karthik       60\n",
       "Name: batsman, dtype: int64"
      ]
     },
     "execution_count": 37,
     "metadata": {},
     "output_type": "execute_result"
    }
   ],
   "source": [
    "temp_df.groupby('batsman')['batsman'].count().sort_values(ascending=False).head()"
   ]
  },
  {
   "cell_type": "markdown",
   "id": "725c0a8c",
   "metadata": {},
   "source": [
    "# find V Kohli record against all teams"
   ]
  },
  {
   "cell_type": "code",
   "execution_count": 38,
   "id": "b66b108f",
   "metadata": {},
   "outputs": [],
   "source": [
    "temp=df[df['batsman']=='V Kohli']"
   ]
  },
  {
   "cell_type": "code",
   "execution_count": 39,
   "id": "d143728c",
   "metadata": {},
   "outputs": [
    {
     "data": {
      "text/plain": [
       "bowling_team\n",
       "Chennai Super Kings       188\n",
       "Deccan Chargers           255\n",
       "Delhi Daredevils          188\n",
       "Gujarat Lions              74\n",
       "Kings XI Punjab           164\n",
       "Kochi Tuskers Kerala       50\n",
       "Kolkata Knight Riders      72\n",
       "Mumbai Indians            200\n",
       "Pune Warriors              67\n",
       "Rajasthan Royals           87\n",
       "Rising Pune Supergiant     83\n",
       "Name: batsman_runs, dtype: int64"
      ]
     },
     "execution_count": 39,
     "metadata": {},
     "output_type": "execute_result"
    }
   ],
   "source": [
    "temp.groupby('bowling_team')['batsman_runs'].sum()"
   ]
  },
  {
   "cell_type": "markdown",
   "id": "1d075177",
   "metadata": {},
   "source": [
    "# Find V Kohli four and six against all teams"
   ]
  },
  {
   "cell_type": "code",
   "execution_count": 40,
   "id": "067626ca",
   "metadata": {},
   "outputs": [],
   "source": [
    "temp=df[(df['batsman']=='V Kohli') & ((df['batsman_runs']==4) | (df['batsman_runs']==6))]"
   ]
  },
  {
   "cell_type": "code",
   "execution_count": 41,
   "id": "64801037",
   "metadata": {},
   "outputs": [
    {
     "data": {
      "text/plain": [
       "bowling_team\n",
       "Chennai Super Kings       25\n",
       "Deccan Chargers           31\n",
       "Delhi Daredevils          23\n",
       "Gujarat Lions              9\n",
       "Kings XI Punjab           23\n",
       "Kochi Tuskers Kerala       7\n",
       "Kolkata Knight Riders      8\n",
       "Mumbai Indians            27\n",
       "Pune Warriors              8\n",
       "Rajasthan Royals           8\n",
       "Rising Pune Supergiant     9\n",
       "Name: batsman_runs, dtype: int64"
      ]
     },
     "execution_count": 41,
     "metadata": {},
     "output_type": "execute_result"
    }
   ],
   "source": [
    "temp.groupby('bowling_team')['batsman_runs'].count()"
   ]
  },
  {
   "cell_type": "markdown",
   "id": "787ffdba",
   "metadata": {},
   "source": [
    "# create a function that can retrun the highest score of any batsman"
   ]
  },
  {
   "cell_type": "code",
   "execution_count": null,
   "id": "43066298",
   "metadata": {},
   "outputs": [],
   "source": []
  }
 ],
 "metadata": {
  "kernelspec": {
   "display_name": "Python 3",
   "language": "python",
   "name": "python3"
  },
  "language_info": {
   "codemirror_mode": {
    "name": "ipython",
    "version": 3
   },
   "file_extension": ".py",
   "mimetype": "text/x-python",
   "name": "python",
   "nbconvert_exporter": "python",
   "pygments_lexer": "ipython3",
   "version": "3.8.8"
  }
 },
 "nbformat": 4,
 "nbformat_minor": 5
}
